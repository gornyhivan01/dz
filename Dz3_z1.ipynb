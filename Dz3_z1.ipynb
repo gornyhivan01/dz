{
 "cells": [
  {
   "cell_type": "markdown",
   "metadata": {
    "id": "1FhkDSrdWWom"
   },
   "source": [
    "Задание 1\n",
    "\n",
    "Реализуйте функцию sum_distance(from, to), которая суммирует все числа от значения from до величины to включительно.\n",
    "Примечание. Если пользователь задаст первое число, которое окажется больше второго, просто поменяйте их местами."
   ]
  },
  {
   "cell_type": "code",
   "execution_count": 21,
   "metadata": {
    "colab": {
     "base_uri": "https://localhost:8080/"
    },
    "id": "tg-kQGJqRugx",
    "outputId": "52d52547-da33-477c-8e83-9caa77490a66"
   },
   "outputs": [
    {
     "name": "stdout",
     "output_type": "stream",
     "text": [
      "Введите первое число 2\n",
      "Введите второе число 5\n",
      "14\n"
     ]
    }
   ],
   "source": [
    "def sum_distance(one_num, two_num):\n",
    "\n",
    "\n",
    "  if one_num > two_num:\n",
    "    one_num, two_num = two_num, one_num  # Если 1 цифра больше, то меняем местами\n",
    "    print (one_num, two_num) # проверка что помянелись местами если первое больше второго\n",
    "  all_sum = 0\n",
    "  for num in range(one_num, two_num + 1):\n",
    "    all_sum += num\n",
    "  return all_sum\n",
    "\n",
    "\n",
    "one_num = input(\"Введите первое число \")\n",
    "two_num = input(\"Введите второе число \")\n",
    "print(sum_distance(int(one_num), int(two_num)))"
   ]
  },
  {
   "cell_type": "markdown",
   "metadata": {},
   "source": [
    "Задание 2\n",
    "\n",
    "Реализуйте функцию trim_and_repeat(), которая принимает три параметра:\n",
    "● строку;\n",
    "● offset — число символов, на которое нужно обрезать строку слева;\n",
    "● repetitions — сколько раз нужно повторить строку перед возвратом получившейся строки.\n",
    "\n",
    "Число символов для среза по умолчанию равно 0, а количество повторений — 1.\n",
    "\n",
    "Функция должна возвращать полученную строку."
   ]
  },
  {
   "cell_type": "code",
   "execution_count": 1,
   "metadata": {},
   "outputs": [
    {
     "name": "stdin",
     "output_type": "stream",
     "text": [
      "Введите фразу  12345\n",
      "Сколько режем слева?  1\n",
      "Повтроряем  2\n"
     ]
    },
    {
     "name": "stdout",
     "output_type": "stream",
     "text": [
      "23452345\n"
     ]
    }
   ],
   "source": [
    "def trim_and_repeat(string, offset=0, repetitions=1):\n",
    "\n",
    "  trim_string = string[offset:]\n",
    "  repit_string = trim_string * repetitions\n",
    "  return repit_string\n",
    "\n",
    "string, offset, repetitions = [input('Введите фразу '), input('Сколько режем слева? '), input('Повтроряем ')]\n",
    "offset , repetitions = [int(offset), int(repetitions)]\n",
    "\n",
    "#string = input('Введите фразу ')\n",
    "#offset = input('Сколько режем слева? ')\n",
    "#repetitions = input('Повтроряем ')\n",
    "#repetitions = int(repetitions)\n",
    "\n",
    "print(trim_and_repeat(string, offset, repetitions))"
   ]
  },
  {
   "cell_type": "code",
   "execution_count": null,
   "metadata": {},
   "outputs": [],
   "source": []
  }
 ],
 "metadata": {
  "colab": {
   "provenance": []
  },
  "kernelspec": {
   "display_name": "Python 3 (ipykernel)",
   "language": "python",
   "name": "python3"
  },
  "language_info": {
   "codemirror_mode": {
    "name": "ipython",
    "version": 3
   },
   "file_extension": ".py",
   "mimetype": "text/x-python",
   "name": "python",
   "nbconvert_exporter": "python",
   "pygments_lexer": "ipython3",
   "version": "3.13.5"
  },
  "widgets": {
   "application/vnd.jupyter.widget-state+json": {
    "state": {},
    "version_major": 2,
    "version_minor": 0
   }
  }
 },
 "nbformat": 4,
 "nbformat_minor": 4
}
