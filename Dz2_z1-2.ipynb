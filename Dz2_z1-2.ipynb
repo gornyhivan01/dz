{
 "cells": [
  {
   "cell_type": "markdown",
   "id": "9a457f65-34d2-4a62-84e5-8d9d56a18def",
   "metadata": {
    "id": "9a457f65-34d2-4a62-84e5-8d9d56a18def"
   },
   "source": [
    "Дана переменная, в которой хранится слово из латинских букв. Напишите код, который выводит на экран:\n",
    "– среднюю букву, если число букв в слове нечётное;\n",
    "– две средних буквы, если число букв чётное.\n",
    "\n",
    "Пример работы программы:\n",
    "\n",
    "word ='test' Результат: es\n",
    "word = ‘testing' Результат: t"
   ]
  },
  {
   "cell_type": "code",
   "execution_count": 1,
   "id": "7602fc2e-2788-4b6b-b92e-931f292bd063",
   "metadata": {
    "colab": {
     "base_uri": "https://localhost:8080/"
    },
    "id": "7602fc2e-2788-4b6b-b92e-931f292bd063",
    "outputId": "8d493382-d96f-4d65-d422-cc37306629ac"
   },
   "outputs": [
    {
     "name": "stdin",
     "output_type": "stream",
     "text": [
      "Введите слово  121212\n"
     ]
    },
    {
     "name": "stdout",
     "output_type": "stream",
     "text": [
      "Слово = 121212. Длина слова 6 символов. Результат: 12\n"
     ]
    }
   ],
   "source": [
    "word = input(\"Введите слово \") # ввод слова\n",
    "word_len = len(word)       # определить количесвто символов\n",
    "\n",
    "if word_len % 2 == 0:      # если остаток от деления количесвта символов равен 0\n",
    "    simvol_index = (word_len // 2) - 1 # первый индекс для символа\n",
    "    simvols = word[simvol_index:simvol_index+2] # вывод символов по индексам 1 и +1\n",
    "else:\n",
    "  simvol_index = word_len // 2\n",
    "  simvols = word[simvol_index] # иначе символ из середины слова (просто пополам)\n",
    "\n",
    "#print(f'длина слова {len(word)} символов')\n",
    "print(f'Слово = {word}. Длина слова {len(word)} символов. Результат: {simvols}')"
   ]
  },
  {
   "cell_type": "markdown",
   "id": "0t31Cvly0k7b",
   "metadata": {
    "id": "0t31Cvly0k7b"
   },
   "source": [
    "Вы делаете MVP (минимально жизнеспособный продукт) dating-сервиса. У вас есть список юношей и девушек.\n",
    "Выдвигаем гипотезу: лучшие рекомендации получатся, если просто отсортировать имена по алфавиту и познакомить людей с одинаковыми индексами после сортировки. Но вы не будете никого знакомить, если кто-то может остаться без пары.\n",
    "\n",
    "Примеры работы программы:\n",
    "\n",
    "boys = [‘Peter', ‘Alex', ‘John', ‘Arthur', ‘Richard']\n",
    "girls = [‘Kate', ‘Liza', ‘Kira', ‘Emma', ‘Trisha']\n",
    "\n",
    "Результат:\n",
    "Идеальные пары:\n",
    "Alex и Emma\n",
    "Arthur и Kate\n",
    "John и Kira\n",
    "Peter и Liza\n",
    "Richard и Trisha\n",
    "\n",
    "boys = [‘Peter', ‘Alex', ‘John', ‘Arthur', ‘Richard', ‘Michael']\n",
    "girls = [‘Kate', ‘Liza', ‘Kira', ‘Emma', ‘Trisha']\n",
    "\n",
    "Результат: Внимание, кто-то может остаться без пары!"
   ]
  },
  {
   "cell_type": "code",
   "execution_count": 4,
   "id": "7un-5pJB0s0C",
   "metadata": {
    "colab": {
     "base_uri": "https://localhost:8080/"
    },
    "id": "7un-5pJB0s0C",
    "outputId": "57d24bab-57ce-404f-f92a-29792b21155b"
   },
   "outputs": [
    {
     "name": "stdout",
     "output_type": "stream",
     "text": [
      "Мужчины ['Alex', 'Arthur', 'John', 'Peter', 'Richard']\n",
      "Женищины ['Emma', 'Kate', 'Kira', 'Liza', 'Trisha']\n",
      "Идеальные пары:\n",
      "Alex и Emma\n",
      "Arthur и Kate\n",
      "John и Kira\n",
      "Peter и Liza\n",
      "Richard и Trisha\n"
     ]
    }
   ],
   "source": [
    "boys = ['Peter', 'Alex', 'John', 'Arthur', 'Richard'] # список мужчин\n",
    "girls = ['Kate', 'Liza', 'Kira', 'Emma', 'Trisha'] # список женищин\n",
    "\n",
    "if len(boys) != len(girls): # проверка на наличии пары\n",
    "    print(\"Внимание, кто-то может остаться без пары!\")\n",
    "    boys.sort()\n",
    "    girls.sort()\n",
    "    print(f'Мужчины {boys} и их {len(boys)}')\n",
    "    print(f'Женищины {girls} и их {len(girls)}')\n",
    "else: # у всех есть пара\n",
    "    boys.sort()\n",
    "    girls.sort()\n",
    "    print(f'Мужчины {boys}')\n",
    "    print(f'Женищины {girls}')\n",
    "    print(\"Идеальные пары:\")\n",
    "    \n",
    "    for p in range(len(boys)):\n",
    "        print(f\"{boys[p]} и {girls[p]}\")\n"
   ]
  },
  {
   "cell_type": "code",
   "execution_count": null,
   "id": "dc3b4ecd-1926-4812-b771-a808ccb5f5ce",
   "metadata": {},
   "outputs": [],
   "source": []
  }
 ],
 "metadata": {
  "colab": {
   "provenance": []
  },
  "kernelspec": {
   "display_name": "Python 3 (ipykernel)",
   "language": "python",
   "name": "python3"
  },
  "language_info": {
   "codemirror_mode": {
    "name": "ipython",
    "version": 3
   },
   "file_extension": ".py",
   "mimetype": "text/x-python",
   "name": "python",
   "nbconvert_exporter": "python",
   "pygments_lexer": "ipython3",
   "version": "3.13.5"
  },
  "widgets": {
   "application/vnd.jupyter.widget-state+json": {
    "state": {},
    "version_major": 2,
    "version_minor": 0
   }
  }
 },
 "nbformat": 4,
 "nbformat_minor": 5
}
